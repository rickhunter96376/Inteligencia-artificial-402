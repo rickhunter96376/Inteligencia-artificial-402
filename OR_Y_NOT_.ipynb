{
  "nbformat": 4,
  "nbformat_minor": 0,
  "metadata": {
    "colab": {
      "provenance": [],
      "authorship_tag": "ABX9TyP9H1mf8hbYnclw5vV0STO+",
      "include_colab_link": true
    },
    "kernelspec": {
      "name": "python3",
      "display_name": "Python 3"
    },
    "language_info": {
      "name": "python"
    }
  },
  "cells": [
    {
      "cell_type": "markdown",
      "metadata": {
        "id": "view-in-github",
        "colab_type": "text"
      },
      "source": [
        "<a href=\"https://colab.research.google.com/github/rickhunter96376/Inteligencia-artificial-402/blob/main/OR_Y_NOT_.ipynb\" target=\"_parent\"><img src=\"https://colab.research.google.com/assets/colab-badge.svg\" alt=\"Open In Colab\"/></a>"
      ]
    },
    {
      "cell_type": "code",
      "execution_count": 4,
      "metadata": {
        "colab": {
          "base_uri": "https://localhost:8080/"
        },
        "id": "oWS9BQk01u_j",
        "outputId": "ae1ee805-4707-482c-e1b3-3175cebc885b"
      },
      "outputs": [
        {
          "output_type": "stream",
          "name": "stdout",
          "text": [
            "Operación OR con McCullock-Pitts\n",
            "X1  X2  |  Salida\n",
            "0   0   |    0 (esperado: 0)\n",
            "0   1   |    1 (esperado: 1)\n",
            "1   0   |    1 (esperado: 1)\n",
            "1   1   |    1 (esperado: 1)\n"
          ]
        }
      ],
      "source": [
        "# Neurona McCullock-Pitts para la operación\n",
        "\n",
        "import numpy as np\n",
        "\n",
        "# 1. Entradas posibles (X1, X2)\n",
        "# Son las combinaciones binarias de dos entradas\n",
        "X = np.array([\n",
        "    [0, 0],\n",
        "    [0, 1],\n",
        "    [1, 0],\n",
        "    [1, 1]\n",
        "])\n",
        "\n",
        "# 2. Salidas esperadas (Y)\n",
        "# En el caso de la operación OR:\n",
        "# El resultado es 1 si al menos una de las entradas es 1\n",
        "Y = np.array([0, 1, 1, 1])\n",
        "\n",
        "# 3. Pesos (W) y Umbral\n",
        "# En una neurona McCulloch-Pitts los pesos determinan la importancia de cada entrada.\n",
        "# Si queremos que la neurona active (salida=1) cuando al menos una entrada es 1,\n",
        "# basta con asignar pesos positivos (por ejemplo 1 y 1) y un umbral de 1.\n",
        "W = np.array([1, 1])\n",
        "umbral = 1\n",
        "\n",
        "# 4. Proceso de activación\n",
        "# La neurona suma las entradas multiplicadas por sus pesos.\n",
        "# Si esa suma es mayor o igual al umbral, la neurona se activa (salida=1),\n",
        "# si no, permanece inactiva (salida=0).\n",
        "def neurona_or(x):\n",
        "    suma = np.dot(x, W)\n",
        "    return 1 if suma >= umbral else 0\n",
        "\n",
        "# 5. Evaluamos todas las combinaciones\n",
        "print(\"Operación OR con McCullock-Pitts\")\n",
        "print(\"X1  X2  |  Salida\")\n",
        "for entrada, salida_esperada in zip(X, Y):\n",
        "    salida_real = neurona_or(entrada)\n",
        "    print(f\"{entrada[0]}   {entrada[1]}   |    {salida_real} (esperado: {salida_esperada})\")\n",
        "\n",
        "# EXPLICACIÓN FINAL\n",
        "# Esta neurona \"aprende\" a reconocer el patrón lógico OR:\n",
        "# Solo da salida 0 cuando ambas entradas son 0.\n",
        "# En todos los demás casos, produce salida 1.\n"
      ]
    },
    {
      "cell_type": "code",
      "source": [
        "# Neurona McCullock-Pitts para la operación NOT\n",
        "\n",
        "import numpy as np\n",
        "\n",
        "# 1. Entradas posibles (X)\n",
        "# Solo hay una entrada en el caso de NOT.\n",
        "X = np.array([0, 1])\n",
        "\n",
        "# 2. Salidas esperadas (Y)\n",
        "# La operación NOT invierte el valor de la entrada.\n",
        "# Si la entrada es 0 → salida 1\n",
        "# Si la entrada es 1 → salida 0\n",
        "Y = np.array([1, 0])\n",
        "# 3. Peso y Umbral\n",
        "# En este caso queremos que la neurona se active cuando la entrada es 0.\n",
        "# Para lograrlo usamos un peso negativo y un umbral 0.\n",
        "W = -1\n",
        "umbral = 0\n",
        "\n",
        "# 4. Proceso de activación\n",
        "# La neurona calcula la suma ponderada (entrada * peso).\n",
        "# Si esa suma es mayor o igual al umbral, la neurona se activa (salida=1).\n",
        "# Si es menor, la salida es 0.\n",
        "def neurona_not(x):\n",
        "    suma = x * W\n",
        "    return 1 if suma >= umbral else 0\n",
        "\n",
        "# 5. Evaluamos todas las combinaciones\n",
        "print(\"Operación NOT con McCullock-Pitts\")\n",
        "print(\"X  |  Salida\")\n",
        "for entrada, salida_esperada in zip(X, Y):\n",
        "    salida_real = neurona_not(entrada)\n",
        "    print(f\"{entrada}  |   {salida_real} (esperado: {salida_esperada})\")\n",
        "\n",
        "# EXPLICACIÓN FINAL\n",
        "# Esta neurona reproduce la función lógica NOT:\n",
        "# Si la entrada es 1 → la neurona no se activa (0)\n",
        "# Si la entrada es 0 → la neurona se activa (1)\n"
      ],
      "metadata": {
        "colab": {
          "base_uri": "https://localhost:8080/"
        },
        "id": "oIzI5gKj15Yd",
        "outputId": "6010da07-823a-4f7b-ac2d-b80cec1a0291"
      },
      "execution_count": 5,
      "outputs": [
        {
          "output_type": "stream",
          "name": "stdout",
          "text": [
            "Operación NOT con McCullock-Pitts\n",
            "X  |  Salida\n",
            "0  |   1 (esperado: 1)\n",
            "1  |   0 (esperado: 0)\n"
          ]
        }
      ]
    }
  ]
}
