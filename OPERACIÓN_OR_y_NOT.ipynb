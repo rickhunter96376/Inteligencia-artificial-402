{
  "nbformat": 4,
  "nbformat_minor": 0,
  "metadata": {
    "colab": {
      "provenance": [],
      "authorship_tag": "ABX9TyO2LlQyJ/+PB2LWaKeCIV5K",
      "include_colab_link": true
    },
    "kernelspec": {
      "name": "python3",
      "display_name": "Python 3"
    },
    "language_info": {
      "name": "python"
    }
  },
  "cells": [
    {
      "cell_type": "markdown",
      "metadata": {
        "id": "view-in-github",
        "colab_type": "text"
      },
      "source": [
        "<a href=\"https://colab.research.google.com/github/rickhunter96376/Inteligencia-artificial-402/blob/main/OPERACI%C3%93N_OR_y_NOT.ipynb\" target=\"_parent\"><img src=\"https://colab.research.google.com/assets/colab-badge.svg\" alt=\"Open In Colab\"/></a>"
      ]
    },
    {
      "cell_type": "markdown",
      "source": [
        "En este caso, la neurona implementa la función NOT, que invierte la entrada.\n",
        "Si la entrada es 0, la salida debe ser 1, y si la entrada es 1, la salida debe ser 0.\n",
        "El peso inicial negativo y el sesgo positivo permiten que la neurona responda de forma contraria a la entrada.\n",
        "Durante las 5 épocas, el perceptrón ajusta sus parámetros hasta que logra invertir correctamente las entradas."
      ],
      "metadata": {
        "id": "5KKx7x7BzP1u"
      }
    },
    {
      "cell_type": "code",
      "source": [
        "# PERCEPTRÓN PARA LA OPERACIÓN LÓGICA OR\n",
        "\n",
        "import numpy as np\n",
        "\n",
        "# Entradas (X) y salidas esperadas (Y)\n",
        "# En la operación OR, la salida es 1 si al menos una entrada es 1\n",
        "X = np.array([\n",
        "    [0, 0],\n",
        "    [0, 1],\n",
        "    [1, 0],\n",
        "    [1, 1]\n",
        "])\n",
        "\n",
        "Y = np.array([0, 1, 1, 1])  # Tabla OR\n",
        "\n",
        "# Parámetros iniciales\n",
        "weights = np.array([0.5, 0.5])  # Pesos iniciales\n",
        "bias = 0.0                      # Sesgo inicial\n",
        "lr = 0.1                        # Tasa de aprendizaje\n",
        "epochs = 5                      # Número de épocas\n",
        "\n",
        "\n",
        "class Perceptron:\n",
        "    def __init__(self, lr, epochs, weights, bias):\n",
        "        self.lr = lr\n",
        "        self.epochs = epochs\n",
        "        self.weights = weights\n",
        "        self.bias = bias\n",
        "\n",
        "    def activation_function(self, x):\n",
        "        # Función escalón: si la suma es >= 0, devuelve 1\n",
        "        return 1 if x >= 0 else 0\n",
        "\n",
        "    def fit(self, X, Y):\n",
        "        # Entrenamiento del perceptrón\n",
        "        for epoch in range(self.epochs):\n",
        "            for i in range(X.shape[0]):\n",
        "                y_pred = self.activation_function(np.dot(self.weights, X[i]) + self.bias)\n",
        "                error = Y[i] - y_pred\n",
        "                self.weights += self.lr * error * X[i]\n",
        "                self.bias += self.lr * error\n",
        "            print(f\"Época {epoch+1}: Pesos = {self.weights}, Bias = {self.bias}\")\n",
        "\n",
        "    def prediction(self, X):\n",
        "        # Calcula las predicciones finales\n",
        "        for i in range(X.shape[0]):\n",
        "            output = self.activation_function(np.dot(X[i], self.weights) + self.bias)\n",
        "            print(f\"Entrada: {X[i]}, Salida predicha: {output}\")\n",
        "\n",
        "\n",
        "# Crear y entrenar el modelo\n",
        "p = Perceptron(lr=lr, epochs=epochs, weights=weights, bias=bias)\n",
        "p.fit(X, Y)\n",
        "\n",
        "# Mostrar resultados\n",
        "print(\"\\nPredicciones finales:\")\n",
        "p.prediction(X)\n"
      ],
      "metadata": {
        "colab": {
          "base_uri": "https://localhost:8080/"
        },
        "id": "jb29GX_0yehc",
        "outputId": "32eace23-3276-4d62-ce8f-bedcd96f11cb"
      },
      "execution_count": 4,
      "outputs": [
        {
          "output_type": "stream",
          "name": "stdout",
          "text": [
            "Época 1: Pesos = [0.5 0.5], Bias = -0.1\n",
            "Época 2: Pesos = [0.5 0.5], Bias = -0.1\n",
            "Época 3: Pesos = [0.5 0.5], Bias = -0.1\n",
            "Época 4: Pesos = [0.5 0.5], Bias = -0.1\n",
            "Época 5: Pesos = [0.5 0.5], Bias = -0.1\n",
            "\n",
            "Predicciones finales:\n",
            "Entrada: [0 0], Salida predicha: 0\n",
            "Entrada: [0 1], Salida predicha: 1\n",
            "Entrada: [1 0], Salida predicha: 1\n",
            "Entrada: [1 1], Salida predicha: 1\n"
          ]
        }
      ]
    },
    {
      "cell_type": "markdown",
      "source": [
        "La neurona aprende la función lógica OR, donde la salida es 1 si al menos una entrada es 1.\n",
        "Durante el entrenamiento, el perceptrón ajusta sus pesos y sesgo en cada época hasta que logra dar la salida correcta para todas las combinaciones de entrada.\n",
        "Al final, la neurona se “activa” cuando detecta que una o ambas entradas son 1."
      ],
      "metadata": {
        "id": "cTrrhEbnzZHT"
      }
    },
    {
      "cell_type": "markdown",
      "source": [],
      "metadata": {
        "id": "MDkzwSTEzNr-"
      }
    },
    {
      "cell_type": "code",
      "source": [
        "# PERCEPTRÓN PARA LA OPERACIÓN LÓGICA NOT\n",
        "\n",
        "import numpy as np\n",
        "\n",
        "# Entradas (X) y salidas esperadas (Y)\n",
        "# En la operación NOT, la salida es lo opuesto de la entrada\n",
        "X = np.array([\n",
        "    [0],\n",
        "    [1]\n",
        "])\n",
        "\n",
        "Y = np.array([1, 0])  # Tabla NOT\n",
        "\n",
        "# Parámetros iniciales\n",
        "weights = np.array([-0.5])  # Peso inicial (negativo para invertir la señal)\n",
        "bias = 0.2                  # Sesgo inicial\n",
        "lr = 0.1                    # Tasa de aprendizaje\n",
        "epochs = 5                  # Número de épocas\n",
        "\n",
        "\n",
        "class Perceptron:\n",
        "    def __init__(self, lr, epochs, weights, bias):\n",
        "        self.lr = lr\n",
        "        self.epochs = epochs\n",
        "        self.weights = weights\n",
        "        self.bias = bias\n",
        "\n",
        "    def activation_function(self, x):\n",
        "        # Función escalón\n",
        "        return 1 if x >= 0 else 0\n",
        "\n",
        "    def fit(self, X, Y):\n",
        "        for epoch in range(self.epochs):\n",
        "            for i in range(X.shape[0]):\n",
        "                y_pred = self.activation_function(np.dot(self.weights, X[i]) + self.bias)\n",
        "                error = Y[i] - y_pred\n",
        "                self.weights += self.lr * error * X[i]\n",
        "                self.bias += self.lr * error\n",
        "            print(f\"Época {epoch+1}: Pesos = {self.weights}, Bias = {self.bias}\")\n",
        "\n",
        "    def prediction(self, X):\n",
        "        for i in range(X.shape[0]):\n",
        "            output = self.activation_function(np.dot(X[i], self.weights) + self.bias)\n",
        "            print(f\"Entrada: {X[i]}, Salida predicha: {output}\")\n",
        "\n",
        "\n",
        "# Crear y entrenar el modelo\n",
        "p = Perceptron(lr=lr, epochs=epochs, weights=weights, bias=bias)\n",
        "p.fit(X, Y)\n",
        "\n",
        "# Mostrar resultados\n",
        "print(\"\\nPredicciones finales:\")\n",
        "p.prediction(X)\n"
      ],
      "metadata": {
        "colab": {
          "base_uri": "https://localhost:8080/"
        },
        "id": "QAGsQ6KgyvDi",
        "outputId": "c43d2e31-8766-4d14-e5ca-1227969b7046"
      },
      "execution_count": 5,
      "outputs": [
        {
          "output_type": "stream",
          "name": "stdout",
          "text": [
            "Época 1: Pesos = [-0.5], Bias = 0.2\n",
            "Época 2: Pesos = [-0.5], Bias = 0.2\n",
            "Época 3: Pesos = [-0.5], Bias = 0.2\n",
            "Época 4: Pesos = [-0.5], Bias = 0.2\n",
            "Época 5: Pesos = [-0.5], Bias = 0.2\n",
            "\n",
            "Predicciones finales:\n",
            "Entrada: [0], Salida predicha: 1\n",
            "Entrada: [1], Salida predicha: 0\n"
          ]
        }
      ]
    }
  ]
}